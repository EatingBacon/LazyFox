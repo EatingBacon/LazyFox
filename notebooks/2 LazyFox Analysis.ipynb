{
 "cells": [
  {
   "cell_type": "markdown",
   "id": "c8c2d431",
   "metadata": {},
   "source": [
    "# LazyFox Analysis\n",
    "\n",
    "This notebook showcases an analysis of a LazyFox run on Eu-core dataset with a threadcount of 1. This is equivalent to the output of the examplatory run of the `LazyFox Workflow.ipynb` notebook."
   ]
  },
  {
   "cell_type": "markdown",
   "id": "c0b88178",
   "metadata": {},
   "source": [
    "## Setup\n",
    "\n",
    "You can change the `run_directory` below if you want to run on the output created from the `LazyFox Workflow.ipynb`"
   ]
  },
  {
   "cell_type": "code",
   "execution_count": 1,
   "id": "f87cae16",
   "metadata": {},
   "outputs": [],
   "source": [
    "import os.path\n",
    "\n",
    "run_directory = \"./example_data/run_eu_with_1\"\n",
    "\n",
    "if not os.path.exists(run_directory):\n",
    "    raise ValueError(f\"No such run directory '{run_directory}'\")\n"
   ]
  },
  {
   "cell_type": "markdown",
   "id": "83086ba8",
   "metadata": {},
   "source": [
    "As the input data provided by SNAP does not always contain the graph properties 'node count' and 'edge count' they are hard coded. Therefore you need to specify the dataset you used!"
   ]
  },
  {
   "cell_type": "code",
   "execution_count": 2,
   "id": "ca8f168c",
   "metadata": {},
   "outputs": [],
   "source": [
    "dataset = \"eu\""
   ]
  },
  {
   "cell_type": "markdown",
   "id": "5dc5b553",
   "metadata": {},
   "source": [
    "The following class bundles many usefull methods to analyse the result of a LazyFox run. It is defined in `BechmarkRun.py`. If you are not interested in the inner workings of the analysis, you can skip that.\n",
    "\n",
    "However, if you want to run on a new dataset apart from Eu-core, DBLP or LiveJournal, you will have to add the node count and the edge count of the new dataset to the file!"
   ]
  },
  {
   "cell_type": "code",
   "execution_count": 3,
   "id": "21f7e2f7",
   "metadata": {},
   "outputs": [],
   "source": [
    "from BenchmarkRun import BenchmarkRun"
   ]
  },
  {
   "cell_type": "markdown",
   "id": "8acbb6b7",
   "metadata": {},
   "source": [
    "## Analysis\n",
    "\n",
    "To analyse a LazyFox run, we create a `BenchmarkRun` object. It just needs the dataset (to lookup the node count and edge count) and the run directory.\n"
   ]
  },
  {
   "cell_type": "code",
   "execution_count": 4,
   "id": "5895c462",
   "metadata": {},
   "outputs": [],
   "source": [
    "run = BenchmarkRun(dataset, run_directory)"
   ]
  },
  {
   "cell_type": "code",
   "execution_count": 5,
   "id": "fcb36b4a",
   "metadata": {},
   "outputs": [
    {
     "data": {
      "text/html": [
       "<div>\n",
       "<style scoped>\n",
       "    .dataframe tbody tr th:only-of-type {\n",
       "        vertical-align: middle;\n",
       "    }\n",
       "\n",
       "    .dataframe tbody tr th {\n",
       "        vertical-align: top;\n",
       "    }\n",
       "\n",
       "    .dataframe thead th {\n",
       "        text-align: right;\n",
       "    }\n",
       "</style>\n",
       "<table border=\"1\" class=\"dataframe\">\n",
       "  <thead>\n",
       "    <tr style=\"text-align: right;\">\n",
       "      <th></th>\n",
       "      <th>min</th>\n",
       "      <th>max</th>\n",
       "      <th>mean</th>\n",
       "      <th>median</th>\n",
       "      <th>com_count</th>\n",
       "      <th>overlap</th>\n",
       "    </tr>\n",
       "  </thead>\n",
       "  <tbody>\n",
       "    <tr>\n",
       "      <th>0</th>\n",
       "      <td>3</td>\n",
       "      <td>135</td>\n",
       "      <td>25.66</td>\n",
       "      <td>11</td>\n",
       "      <td>213</td>\n",
       "      <td>5.44</td>\n",
       "    </tr>\n",
       "  </tbody>\n",
       "</table>\n",
       "</div>"
      ],
      "text/plain": [
       "   min  max   mean  median  com_count  overlap\n",
       "0    3  135  25.66      11        213     5.44"
      ]
     },
     "execution_count": 5,
     "metadata": {},
     "output_type": "execute_result"
    }
   ],
   "source": [
    "from pandas import DataFrame\n",
    "\n",
    "cluster_stats = run.cluster_stats()\n",
    "DataFrame([cluster_stats.values()], columns=cluster_stats.keys())"
   ]
  },
  {
   "cell_type": "code",
   "execution_count": 6,
   "id": "85ad1e99",
   "metadata": {
    "scrolled": false
   },
   "outputs": [
    {
     "data": {
      "text/html": [
       "<div>\n",
       "<style scoped>\n",
       "    .dataframe tbody tr th:only-of-type {\n",
       "        vertical-align: middle;\n",
       "    }\n",
       "\n",
       "    .dataframe tbody tr th {\n",
       "        vertical-align: top;\n",
       "    }\n",
       "\n",
       "    .dataframe thead th {\n",
       "        text-align: right;\n",
       "    }\n",
       "</style>\n",
       "<table border=\"1\" class=\"dataframe\">\n",
       "  <thead>\n",
       "    <tr style=\"text-align: right;\">\n",
       "      <th></th>\n",
       "      <th>ram peak</th>\n",
       "      <th>total time</th>\n",
       "      <th>first iteration runtime</th>\n",
       "      <th>iteration count</th>\n",
       "      <th>time to epoch 4</th>\n",
       "      <th>avg time per iteration</th>\n",
       "    </tr>\n",
       "  </thead>\n",
       "  <tbody>\n",
       "    <tr>\n",
       "      <th>0</th>\n",
       "      <td>6164</td>\n",
       "      <td>14.07</td>\n",
       "      <td>0.094302</td>\n",
       "      <td>20</td>\n",
       "      <td>1.399653</td>\n",
       "      <td>0.69415</td>\n",
       "    </tr>\n",
       "  </tbody>\n",
       "</table>\n",
       "</div>"
      ],
      "text/plain": [
       "   ram peak  total time  first iteration runtime  iteration count  \\\n",
       "0      6164       14.07                 0.094302               20   \n",
       "\n",
       "   time to epoch 4  avg time per iteration  \n",
       "0         1.399653                 0.69415  "
      ]
     },
     "execution_count": 6,
     "metadata": {},
     "output_type": "execute_result"
    }
   ],
   "source": [
    "performance_stats = run.performance_stats()\n",
    "DataFrame([performance_stats.values()], columns=performance_stats.keys())"
   ]
  },
  {
   "cell_type": "markdown",
   "id": "a4ae588c",
   "metadata": {},
   "source": [
    "## Comparative Analysis\n",
    "If you run LazyFox multiple times you can create multiple `BenchmarkRun` objects and then compare their results.\n",
    "\n",
    "We provided the output of multiple LazyFox runs on the Eu-core dataset to showcase a more advanced analysis below."
   ]
  },
  {
   "cell_type": "code",
   "execution_count": 7,
   "id": "8b5cd914",
   "metadata": {},
   "outputs": [],
   "source": [
    "example_data_directory = \"./example_data\"\n",
    "\n",
    "runs_by_threadcount = {}\n",
    "\n",
    "threadcounts = [1, 2, 4, 8, 16, 32, 64, 128, 256]\n",
    "for threadcount in threadcounts:\n",
    "    run_directory = os.path.join(example_data_directory, f\"run_eu_with_{threadcount}\")\n",
    "\n",
    "    runs_by_threadcount[threadcount] = BenchmarkRun(\"eu\", run_directory)"
   ]
  },
  {
   "cell_type": "markdown",
   "id": "cbd6c4de",
   "metadata": {},
   "source": [
    "### Create DataFrames"
   ]
  },
  {
   "cell_type": "code",
   "execution_count": 8,
   "id": "bbb8ff5f",
   "metadata": {
    "scrolled": false
   },
   "outputs": [
    {
     "data": {
      "text/html": [
       "<style  type=\"text/css\" >\n",
       "</style><table id=\"T_35342_\" ><caption>EU Dataset - Cluster Stat Changes over different threadcounts</caption><thead>    <tr>        <th class=\"blank level0\" ></th>        <th class=\"col_heading level0 col0\" >threadcount</th>        <th class=\"col_heading level0 col1\" >min</th>        <th class=\"col_heading level0 col2\" >max</th>        <th class=\"col_heading level0 col3\" >mean</th>        <th class=\"col_heading level0 col4\" >median</th>        <th class=\"col_heading level0 col5\" >com_count</th>        <th class=\"col_heading level0 col6\" >overlap</th>    </tr></thead><tbody>\n",
       "                <tr>\n",
       "                        <th id=\"T_35342_level0_row0\" class=\"row_heading level0 row0\" >0</th>\n",
       "                        <td id=\"T_35342_row0_col0\" class=\"data row0 col0\" >1</td>\n",
       "                        <td id=\"T_35342_row0_col1\" class=\"data row0 col1\" >0</td>\n",
       "                        <td id=\"T_35342_row0_col2\" class=\"data row0 col2\" >0</td>\n",
       "                        <td id=\"T_35342_row0_col3\" class=\"data row0 col3\" >0.0</td>\n",
       "                        <td id=\"T_35342_row0_col4\" class=\"data row0 col4\" >0</td>\n",
       "                        <td id=\"T_35342_row0_col5\" class=\"data row0 col5\" >0</td>\n",
       "                        <td id=\"T_35342_row0_col6\" class=\"data row0 col6\" >0.0</td>\n",
       "            </tr>\n",
       "            <tr>\n",
       "                        <th id=\"T_35342_level0_row1\" class=\"row_heading level0 row1\" >1</th>\n",
       "                        <td id=\"T_35342_row1_col0\" class=\"data row1 col0\" >2</td>\n",
       "                        <td id=\"T_35342_row1_col1\" class=\"data row1 col1\" >+0</td>\n",
       "                        <td id=\"T_35342_row1_col2\" class=\"data row1 col2\" >-1</td>\n",
       "                        <td id=\"T_35342_row1_col3\" class=\"data row1 col3\" >-0.47</td>\n",
       "                        <td id=\"T_35342_row1_col4\" class=\"data row1 col4\" >+0</td>\n",
       "                        <td id=\"T_35342_row1_col5\" class=\"data row1 col5\" >+0</td>\n",
       "                        <td id=\"T_35342_row1_col6\" class=\"data row1 col6\" >-0.1</td>\n",
       "            </tr>\n",
       "            <tr>\n",
       "                        <th id=\"T_35342_level0_row2\" class=\"row_heading level0 row2\" >2</th>\n",
       "                        <td id=\"T_35342_row2_col0\" class=\"data row2 col0\" >4</td>\n",
       "                        <td id=\"T_35342_row2_col1\" class=\"data row2 col1\" >+0</td>\n",
       "                        <td id=\"T_35342_row2_col2\" class=\"data row2 col2\" >-1</td>\n",
       "                        <td id=\"T_35342_row2_col3\" class=\"data row2 col3\" >-0.3</td>\n",
       "                        <td id=\"T_35342_row2_col4\" class=\"data row2 col4\" >+0</td>\n",
       "                        <td id=\"T_35342_row2_col5\" class=\"data row2 col5\" >+0</td>\n",
       "                        <td id=\"T_35342_row2_col6\" class=\"data row2 col6\" >-0.06</td>\n",
       "            </tr>\n",
       "            <tr>\n",
       "                        <th id=\"T_35342_level0_row3\" class=\"row_heading level0 row3\" >3</th>\n",
       "                        <td id=\"T_35342_row3_col0\" class=\"data row3 col0\" >8</td>\n",
       "                        <td id=\"T_35342_row3_col1\" class=\"data row3 col1\" >+0</td>\n",
       "                        <td id=\"T_35342_row3_col2\" class=\"data row3 col2\" >+0</td>\n",
       "                        <td id=\"T_35342_row3_col3\" class=\"data row3 col3\" >+0.46</td>\n",
       "                        <td id=\"T_35342_row3_col4\" class=\"data row3 col4\" >+0</td>\n",
       "                        <td id=\"T_35342_row3_col5\" class=\"data row3 col5\" >+0</td>\n",
       "                        <td id=\"T_35342_row3_col6\" class=\"data row3 col6\" >+0.1</td>\n",
       "            </tr>\n",
       "            <tr>\n",
       "                        <th id=\"T_35342_level0_row4\" class=\"row_heading level0 row4\" >4</th>\n",
       "                        <td id=\"T_35342_row4_col0\" class=\"data row4 col0\" >16</td>\n",
       "                        <td id=\"T_35342_row4_col1\" class=\"data row4 col1\" >+0</td>\n",
       "                        <td id=\"T_35342_row4_col2\" class=\"data row4 col2\" >+0</td>\n",
       "                        <td id=\"T_35342_row4_col3\" class=\"data row4 col3\" >+0.11</td>\n",
       "                        <td id=\"T_35342_row4_col4\" class=\"data row4 col4\" >+0</td>\n",
       "                        <td id=\"T_35342_row4_col5\" class=\"data row4 col5\" >+0</td>\n",
       "                        <td id=\"T_35342_row4_col6\" class=\"data row4 col6\" >+0.02</td>\n",
       "            </tr>\n",
       "            <tr>\n",
       "                        <th id=\"T_35342_level0_row5\" class=\"row_heading level0 row5\" >5</th>\n",
       "                        <td id=\"T_35342_row5_col0\" class=\"data row5 col0\" >32</td>\n",
       "                        <td id=\"T_35342_row5_col1\" class=\"data row5 col1\" >+0</td>\n",
       "                        <td id=\"T_35342_row5_col2\" class=\"data row5 col2\" >+2</td>\n",
       "                        <td id=\"T_35342_row5_col3\" class=\"data row5 col3\" >+1.53</td>\n",
       "                        <td id=\"T_35342_row5_col4\" class=\"data row5 col4\" >+0</td>\n",
       "                        <td id=\"T_35342_row5_col5\" class=\"data row5 col5\" >+0</td>\n",
       "                        <td id=\"T_35342_row5_col6\" class=\"data row5 col6\" >+0.32</td>\n",
       "            </tr>\n",
       "            <tr>\n",
       "                        <th id=\"T_35342_level0_row6\" class=\"row_heading level0 row6\" >6</th>\n",
       "                        <td id=\"T_35342_row6_col0\" class=\"data row6 col0\" >64</td>\n",
       "                        <td id=\"T_35342_row6_col1\" class=\"data row6 col1\" >+0</td>\n",
       "                        <td id=\"T_35342_row6_col2\" class=\"data row6 col2\" >+0</td>\n",
       "                        <td id=\"T_35342_row6_col3\" class=\"data row6 col3\" >+1.2</td>\n",
       "                        <td id=\"T_35342_row6_col4\" class=\"data row6 col4\" >+1</td>\n",
       "                        <td id=\"T_35342_row6_col5\" class=\"data row6 col5\" >+0</td>\n",
       "                        <td id=\"T_35342_row6_col6\" class=\"data row6 col6\" >+0.25</td>\n",
       "            </tr>\n",
       "            <tr>\n",
       "                        <th id=\"T_35342_level0_row7\" class=\"row_heading level0 row7\" >7</th>\n",
       "                        <td id=\"T_35342_row7_col0\" class=\"data row7 col0\" >128</td>\n",
       "                        <td id=\"T_35342_row7_col1\" class=\"data row7 col1\" >+0</td>\n",
       "                        <td id=\"T_35342_row7_col2\" class=\"data row7 col2\" >+2</td>\n",
       "                        <td id=\"T_35342_row7_col3\" class=\"data row7 col3\" >+1.65</td>\n",
       "                        <td id=\"T_35342_row7_col4\" class=\"data row7 col4\" >+0</td>\n",
       "                        <td id=\"T_35342_row7_col5\" class=\"data row7 col5\" >+0</td>\n",
       "                        <td id=\"T_35342_row7_col6\" class=\"data row7 col6\" >+0.35</td>\n",
       "            </tr>\n",
       "            <tr>\n",
       "                        <th id=\"T_35342_level0_row8\" class=\"row_heading level0 row8\" >8</th>\n",
       "                        <td id=\"T_35342_row8_col0\" class=\"data row8 col0\" >256</td>\n",
       "                        <td id=\"T_35342_row8_col1\" class=\"data row8 col1\" >+0</td>\n",
       "                        <td id=\"T_35342_row8_col2\" class=\"data row8 col2\" >-39</td>\n",
       "                        <td id=\"T_35342_row8_col3\" class=\"data row8 col3\" >-5.71</td>\n",
       "                        <td id=\"T_35342_row8_col4\" class=\"data row8 col4\" >+0</td>\n",
       "                        <td id=\"T_35342_row8_col5\" class=\"data row8 col5\" >+0</td>\n",
       "                        <td id=\"T_35342_row8_col6\" class=\"data row8 col6\" >-1.21</td>\n",
       "            </tr>\n",
       "    </tbody></table>"
      ],
      "text/plain": [
       "<pandas.io.formats.style.Styler at 0x7fbc000fd220>"
      ]
     },
     "execution_count": 8,
     "metadata": {},
     "output_type": "execute_result"
    }
   ],
   "source": [
    "# Cluster Stats\n",
    "data_rows = []\n",
    "for threadcount in threadcounts:\n",
    "    run = runs_by_threadcount[threadcount]\n",
    "    cluster_stats = run.cluster_stats()\n",
    "\n",
    "    if threadcount == 1:\n",
    "        org = cluster_stats\n",
    "\n",
    "    def display_diff(value, org, threadcount):\n",
    "        new = round(value - org, 2)\n",
    "        if threadcount != 1 and new >= 0:\n",
    "            return \"+\" + str(new)\n",
    "        return str(new)\n",
    "\n",
    "    data_row = [threadcount] + [display_diff(value,org[key], threadcount) for key, value in cluster_stats.items()]\n",
    "    data_rows.append(data_row)\n",
    "\n",
    "cluster_stat_df = DataFrame(data_rows, columns=[\"threadcount\"] + list(cluster_stats.keys()))\n",
    "cluster_stat_df.style.set_caption(\"EU Dataset - Cluster Stat Changes over different threadcounts\")"
   ]
  },
  {
   "cell_type": "code",
   "execution_count": 9,
   "id": "d12b0b8f",
   "metadata": {
    "scrolled": true
   },
   "outputs": [
    {
     "data": {
      "text/html": [
       "<style  type=\"text/css\" >\n",
       "</style><table id=\"T_2bb28_\" ><caption>EU Dataset - Performance Stat Changes over different threadcounts</caption><thead>    <tr>        <th class=\"blank level0\" ></th>        <th class=\"col_heading level0 col0\" >threadcount</th>        <th class=\"col_heading level0 col1\" >ram peak</th>        <th class=\"col_heading level0 col2\" >total time</th>        <th class=\"col_heading level0 col3\" >first iteration runtime</th>        <th class=\"col_heading level0 col4\" >iteration count</th>        <th class=\"col_heading level0 col5\" >time to epoch 4</th>        <th class=\"col_heading level0 col6\" >avg time per iteration</th>    </tr></thead><tbody>\n",
       "                <tr>\n",
       "                        <th id=\"T_2bb28_level0_row0\" class=\"row_heading level0 row0\" >0</th>\n",
       "                        <td id=\"T_2bb28_row0_col0\" class=\"data row0 col0\" >1</td>\n",
       "                        <td id=\"T_2bb28_row0_col1\" class=\"data row0 col1\" >0</td>\n",
       "                        <td id=\"T_2bb28_row0_col2\" class=\"data row0 col2\" >0.0</td>\n",
       "                        <td id=\"T_2bb28_row0_col3\" class=\"data row0 col3\" >0.0</td>\n",
       "                        <td id=\"T_2bb28_row0_col4\" class=\"data row0 col4\" >0</td>\n",
       "                        <td id=\"T_2bb28_row0_col5\" class=\"data row0 col5\" >0.0</td>\n",
       "                        <td id=\"T_2bb28_row0_col6\" class=\"data row0 col6\" >0.0</td>\n",
       "            </tr>\n",
       "            <tr>\n",
       "                        <th id=\"T_2bb28_level0_row1\" class=\"row_heading level0 row1\" >1</th>\n",
       "                        <td id=\"T_2bb28_row1_col0\" class=\"data row1 col0\" >2</td>\n",
       "                        <td id=\"T_2bb28_row1_col1\" class=\"data row1 col1\" >+160</td>\n",
       "                        <td id=\"T_2bb28_row1_col2\" class=\"data row1 col2\" >-6.24</td>\n",
       "                        <td id=\"T_2bb28_row1_col3\" class=\"data row1 col3\" >-0.02</td>\n",
       "                        <td id=\"T_2bb28_row1_col4\" class=\"data row1 col4\" >-1</td>\n",
       "                        <td id=\"T_2bb28_row1_col5\" class=\"data row1 col5\" >-0.43</td>\n",
       "                        <td id=\"T_2bb28_row1_col6\" class=\"data row1 col6\" >-0.29</td>\n",
       "            </tr>\n",
       "            <tr>\n",
       "                        <th id=\"T_2bb28_level0_row2\" class=\"row_heading level0 row2\" >2</th>\n",
       "                        <td id=\"T_2bb28_row2_col0\" class=\"data row2 col0\" >4</td>\n",
       "                        <td id=\"T_2bb28_row2_col1\" class=\"data row2 col1\" >+424</td>\n",
       "                        <td id=\"T_2bb28_row2_col2\" class=\"data row2 col2\" >-8.4</td>\n",
       "                        <td id=\"T_2bb28_row2_col3\" class=\"data row2 col3\" >-0.05</td>\n",
       "                        <td id=\"T_2bb28_row2_col4\" class=\"data row2 col4\" >-1</td>\n",
       "                        <td id=\"T_2bb28_row2_col5\" class=\"data row2 col5\" >-0.79</td>\n",
       "                        <td id=\"T_2bb28_row2_col6\" class=\"data row2 col6\" >-0.41</td>\n",
       "            </tr>\n",
       "            <tr>\n",
       "                        <th id=\"T_2bb28_level0_row3\" class=\"row_heading level0 row3\" >3</th>\n",
       "                        <td id=\"T_2bb28_row3_col0\" class=\"data row3 col0\" >8</td>\n",
       "                        <td id=\"T_2bb28_row3_col1\" class=\"data row3 col1\" >+408</td>\n",
       "                        <td id=\"T_2bb28_row3_col2\" class=\"data row3 col2\" >-9.56</td>\n",
       "                        <td id=\"T_2bb28_row3_col3\" class=\"data row3 col3\" >-0.06</td>\n",
       "                        <td id=\"T_2bb28_row3_col4\" class=\"data row3 col4\" >+1</td>\n",
       "                        <td id=\"T_2bb28_row3_col5\" class=\"data row3 col5\" >-1.04</td>\n",
       "                        <td id=\"T_2bb28_row3_col6\" class=\"data row3 col6\" >-0.49</td>\n",
       "            </tr>\n",
       "            <tr>\n",
       "                        <th id=\"T_2bb28_level0_row4\" class=\"row_heading level0 row4\" >4</th>\n",
       "                        <td id=\"T_2bb28_row4_col0\" class=\"data row4 col0\" >16</td>\n",
       "                        <td id=\"T_2bb28_row4_col1\" class=\"data row4 col1\" >+888</td>\n",
       "                        <td id=\"T_2bb28_row4_col2\" class=\"data row4 col2\" >-11.39</td>\n",
       "                        <td id=\"T_2bb28_row4_col3\" class=\"data row4 col3\" >-0.07</td>\n",
       "                        <td id=\"T_2bb28_row4_col4\" class=\"data row4 col4\" >+0</td>\n",
       "                        <td id=\"T_2bb28_row4_col5\" class=\"data row4 col5\" >-1.17</td>\n",
       "                        <td id=\"T_2bb28_row4_col6\" class=\"data row4 col6\" >-0.57</td>\n",
       "            </tr>\n",
       "            <tr>\n",
       "                        <th id=\"T_2bb28_level0_row5\" class=\"row_heading level0 row5\" >5</th>\n",
       "                        <td id=\"T_2bb28_row5_col0\" class=\"data row5 col0\" >32</td>\n",
       "                        <td id=\"T_2bb28_row5_col1\" class=\"data row5 col1\" >+1632</td>\n",
       "                        <td id=\"T_2bb28_row5_col2\" class=\"data row5 col2\" >-11.93</td>\n",
       "                        <td id=\"T_2bb28_row5_col3\" class=\"data row5 col3\" >-0.08</td>\n",
       "                        <td id=\"T_2bb28_row5_col4\" class=\"data row5 col4\" >+2</td>\n",
       "                        <td id=\"T_2bb28_row5_col5\" class=\"data row5 col5\" >-1.25</td>\n",
       "                        <td id=\"T_2bb28_row5_col6\" class=\"data row5 col6\" >-0.6</td>\n",
       "            </tr>\n",
       "            <tr>\n",
       "                        <th id=\"T_2bb28_level0_row6\" class=\"row_heading level0 row6\" >6</th>\n",
       "                        <td id=\"T_2bb28_row6_col0\" class=\"data row6 col0\" >64</td>\n",
       "                        <td id=\"T_2bb28_row6_col1\" class=\"data row6 col1\" >+3352</td>\n",
       "                        <td id=\"T_2bb28_row6_col2\" class=\"data row6 col2\" >-12.71</td>\n",
       "                        <td id=\"T_2bb28_row6_col3\" class=\"data row6 col3\" >-0.08</td>\n",
       "                        <td id=\"T_2bb28_row6_col4\" class=\"data row6 col4\" >+1</td>\n",
       "                        <td id=\"T_2bb28_row6_col5\" class=\"data row6 col5\" >-1.3</td>\n",
       "                        <td id=\"T_2bb28_row6_col6\" class=\"data row6 col6\" >-0.64</td>\n",
       "            </tr>\n",
       "            <tr>\n",
       "                        <th id=\"T_2bb28_level0_row7\" class=\"row_heading level0 row7\" >7</th>\n",
       "                        <td id=\"T_2bb28_row7_col0\" class=\"data row7 col0\" >128</td>\n",
       "                        <td id=\"T_2bb28_row7_col1\" class=\"data row7 col1\" >+5880</td>\n",
       "                        <td id=\"T_2bb28_row7_col2\" class=\"data row7 col2\" >-13.09</td>\n",
       "                        <td id=\"T_2bb28_row7_col3\" class=\"data row7 col3\" >-0.09</td>\n",
       "                        <td id=\"T_2bb28_row7_col4\" class=\"data row7 col4\" >+3</td>\n",
       "                        <td id=\"T_2bb28_row7_col5\" class=\"data row7 col5\" >-1.33</td>\n",
       "                        <td id=\"T_2bb28_row7_col6\" class=\"data row7 col6\" >-0.66</td>\n",
       "            </tr>\n",
       "            <tr>\n",
       "                        <th id=\"T_2bb28_level0_row8\" class=\"row_heading level0 row8\" >8</th>\n",
       "                        <td id=\"T_2bb28_row8_col0\" class=\"data row8 col0\" >256</td>\n",
       "                        <td id=\"T_2bb28_row8_col1\" class=\"data row8 col1\" >+9472</td>\n",
       "                        <td id=\"T_2bb28_row8_col2\" class=\"data row8 col2\" >-13.39</td>\n",
       "                        <td id=\"T_2bb28_row8_col3\" class=\"data row8 col3\" >-0.01</td>\n",
       "                        <td id=\"T_2bb28_row8_col4\" class=\"data row8 col4\" >-3</td>\n",
       "                        <td id=\"T_2bb28_row8_col5\" class=\"data row8 col5\" >-1.22</td>\n",
       "                        <td id=\"T_2bb28_row8_col6\" class=\"data row8 col6\" >-0.67</td>\n",
       "            </tr>\n",
       "    </tbody></table>"
      ],
      "text/plain": [
       "<pandas.io.formats.style.Styler at 0x7fbc0011c3d0>"
      ]
     },
     "execution_count": 9,
     "metadata": {},
     "output_type": "execute_result"
    }
   ],
   "source": [
    "# Absolute Performance Stats\n",
    "data_rows = []\n",
    "for threadcount in threadcounts:\n",
    "    run = runs_by_threadcount[threadcount]\n",
    "    performance_stats = run.performance_stats()\n",
    "\n",
    "    if threadcount == 1:\n",
    "        org = performance_stats\n",
    "\n",
    "    def display_diff(value, org, threadcount):\n",
    "        new = round(value - org, 2)\n",
    "        if threadcount != 1 and new >= 0:\n",
    "            return \"+\" + str(new)\n",
    "        return str(new)\n",
    "\n",
    "    data_row = [threadcount] + [display_diff(value,org[key], threadcount) for key, value in performance_stats.items()]\n",
    "    data_rows.append(data_row)\n",
    "\n",
    "performance_stat_df = DataFrame(data_rows, columns=[\"threadcount\"] + list(performance_stats.keys()))\n",
    "performance_stat_df.style.set_caption(\"EU Dataset - Performance Stat Changes over different threadcounts\")"
   ]
  },
  {
   "cell_type": "code",
   "execution_count": 10,
   "id": "dd678855",
   "metadata": {
    "scrolled": true
   },
   "outputs": [
    {
     "data": {
      "text/html": [
       "<style  type=\"text/css\" >\n",
       "</style><table id=\"T_78d1e_\" ><caption>EU Dataset - Relative Performance Stat Changes over different threadcounts</caption><thead>    <tr>        <th class=\"blank level0\" ></th>        <th class=\"col_heading level0 col0\" >threadcount</th>        <th class=\"col_heading level0 col1\" >ram peak</th>        <th class=\"col_heading level0 col2\" >total time</th>        <th class=\"col_heading level0 col3\" >first iteration runtime</th>        <th class=\"col_heading level0 col4\" >iteration count</th>        <th class=\"col_heading level0 col5\" >time to epoch 4</th>        <th class=\"col_heading level0 col6\" >avg time per iteration</th>    </tr></thead><tbody>\n",
       "                <tr>\n",
       "                        <th id=\"T_78d1e_level0_row0\" class=\"row_heading level0 row0\" >0</th>\n",
       "                        <td id=\"T_78d1e_row0_col0\" class=\"data row0 col0\" >1</td>\n",
       "                        <td id=\"T_78d1e_row0_col1\" class=\"data row0 col1\" >1.000000</td>\n",
       "                        <td id=\"T_78d1e_row0_col2\" class=\"data row0 col2\" >1.000000</td>\n",
       "                        <td id=\"T_78d1e_row0_col3\" class=\"data row0 col3\" >1.000000</td>\n",
       "                        <td id=\"T_78d1e_row0_col4\" class=\"data row0 col4\" >1.000000</td>\n",
       "                        <td id=\"T_78d1e_row0_col5\" class=\"data row0 col5\" >1.000000</td>\n",
       "                        <td id=\"T_78d1e_row0_col6\" class=\"data row0 col6\" >1.000000</td>\n",
       "            </tr>\n",
       "            <tr>\n",
       "                        <th id=\"T_78d1e_level0_row1\" class=\"row_heading level0 row1\" >1</th>\n",
       "                        <td id=\"T_78d1e_row1_col0\" class=\"data row1 col0\" >2</td>\n",
       "                        <td id=\"T_78d1e_row1_col1\" class=\"data row1 col1\" >1.025957</td>\n",
       "                        <td id=\"T_78d1e_row1_col2\" class=\"data row1 col2\" >0.556503</td>\n",
       "                        <td id=\"T_78d1e_row1_col3\" class=\"data row1 col3\" >0.749947</td>\n",
       "                        <td id=\"T_78d1e_row1_col4\" class=\"data row1 col4\" >0.950000</td>\n",
       "                        <td id=\"T_78d1e_row1_col5\" class=\"data row1 col5\" >0.692559</td>\n",
       "                        <td id=\"T_78d1e_row1_col6\" class=\"data row1 col6\" >0.575818</td>\n",
       "            </tr>\n",
       "            <tr>\n",
       "                        <th id=\"T_78d1e_level0_row2\" class=\"row_heading level0 row2\" >2</th>\n",
       "                        <td id=\"T_78d1e_row2_col0\" class=\"data row2 col0\" >4</td>\n",
       "                        <td id=\"T_78d1e_row2_col1\" class=\"data row2 col1\" >1.068787</td>\n",
       "                        <td id=\"T_78d1e_row2_col2\" class=\"data row2 col2\" >0.402985</td>\n",
       "                        <td id=\"T_78d1e_row2_col3\" class=\"data row2 col3\" >0.504633</td>\n",
       "                        <td id=\"T_78d1e_row2_col4\" class=\"data row2 col4\" >0.950000</td>\n",
       "                        <td id=\"T_78d1e_row2_col5\" class=\"data row2 col5\" >0.435697</td>\n",
       "                        <td id=\"T_78d1e_row2_col6\" class=\"data row2 col6\" >0.414536</td>\n",
       "            </tr>\n",
       "            <tr>\n",
       "                        <th id=\"T_78d1e_level0_row3\" class=\"row_heading level0 row3\" >3</th>\n",
       "                        <td id=\"T_78d1e_row3_col0\" class=\"data row3 col0\" >8</td>\n",
       "                        <td id=\"T_78d1e_row3_col1\" class=\"data row3 col1\" >1.066191</td>\n",
       "                        <td id=\"T_78d1e_row3_col2\" class=\"data row3 col2\" >0.320540</td>\n",
       "                        <td id=\"T_78d1e_row3_col3\" class=\"data row3 col3\" >0.314864</td>\n",
       "                        <td id=\"T_78d1e_row3_col4\" class=\"data row3 col4\" >1.050000</td>\n",
       "                        <td id=\"T_78d1e_row3_col5\" class=\"data row3 col5\" >0.260307</td>\n",
       "                        <td id=\"T_78d1e_row3_col6\" class=\"data row3 col6\" >0.297307</td>\n",
       "            </tr>\n",
       "            <tr>\n",
       "                        <th id=\"T_78d1e_level0_row4\" class=\"row_heading level0 row4\" >4</th>\n",
       "                        <td id=\"T_78d1e_row4_col0\" class=\"data row4 col0\" >16</td>\n",
       "                        <td id=\"T_78d1e_row4_col1\" class=\"data row4 col1\" >1.144062</td>\n",
       "                        <td id=\"T_78d1e_row4_col2\" class=\"data row4 col2\" >0.190476</td>\n",
       "                        <td id=\"T_78d1e_row4_col3\" class=\"data row4 col3\" >0.215411</td>\n",
       "                        <td id=\"T_78d1e_row4_col4\" class=\"data row4 col4\" >1.000000</td>\n",
       "                        <td id=\"T_78d1e_row4_col5\" class=\"data row4 col5\" >0.162388</td>\n",
       "                        <td id=\"T_78d1e_row4_col6\" class=\"data row4 col6\" >0.179737</td>\n",
       "            </tr>\n",
       "            <tr>\n",
       "                        <th id=\"T_78d1e_level0_row5\" class=\"row_heading level0 row5\" >5</th>\n",
       "                        <td id=\"T_78d1e_row5_col0\" class=\"data row5 col0\" >32</td>\n",
       "                        <td id=\"T_78d1e_row5_col1\" class=\"data row5 col1\" >1.264763</td>\n",
       "                        <td id=\"T_78d1e_row5_col2\" class=\"data row5 col2\" >0.152097</td>\n",
       "                        <td id=\"T_78d1e_row5_col3\" class=\"data row5 col3\" >0.150173</td>\n",
       "                        <td id=\"T_78d1e_row5_col4\" class=\"data row5 col4\" >1.100000</td>\n",
       "                        <td id=\"T_78d1e_row5_col5\" class=\"data row5 col5\" >0.104639</td>\n",
       "                        <td id=\"T_78d1e_row5_col6\" class=\"data row5 col6\" >0.129497</td>\n",
       "            </tr>\n",
       "            <tr>\n",
       "                        <th id=\"T_78d1e_level0_row6\" class=\"row_heading level0 row6\" >6</th>\n",
       "                        <td id=\"T_78d1e_row6_col0\" class=\"data row6 col0\" >64</td>\n",
       "                        <td id=\"T_78d1e_row6_col1\" class=\"data row6 col1\" >1.543803</td>\n",
       "                        <td id=\"T_78d1e_row6_col2\" class=\"data row6 col2\" >0.096660</td>\n",
       "                        <td id=\"T_78d1e_row6_col3\" class=\"data row6 col3\" >0.116201</td>\n",
       "                        <td id=\"T_78d1e_row6_col4\" class=\"data row6 col4\" >1.050000</td>\n",
       "                        <td id=\"T_78d1e_row6_col5\" class=\"data row6 col5\" >0.071849</td>\n",
       "                        <td id=\"T_78d1e_row6_col6\" class=\"data row6 col6\" >0.079151</td>\n",
       "            </tr>\n",
       "            <tr>\n",
       "                        <th id=\"T_78d1e_level0_row7\" class=\"row_heading level0 row7\" >7</th>\n",
       "                        <td id=\"T_78d1e_row7_col0\" class=\"data row7 col0\" >128</td>\n",
       "                        <td id=\"T_78d1e_row7_col1\" class=\"data row7 col1\" >1.953926</td>\n",
       "                        <td id=\"T_78d1e_row7_col2\" class=\"data row7 col2\" >0.069652</td>\n",
       "                        <td id=\"T_78d1e_row7_col3\" class=\"data row7 col3\" >0.075736</td>\n",
       "                        <td id=\"T_78d1e_row7_col4\" class=\"data row7 col4\" >1.150000</td>\n",
       "                        <td id=\"T_78d1e_row7_col5\" class=\"data row7 col5\" >0.047234</td>\n",
       "                        <td id=\"T_78d1e_row7_col6\" class=\"data row7 col6\" >0.048660</td>\n",
       "            </tr>\n",
       "            <tr>\n",
       "                        <th id=\"T_78d1e_level0_row8\" class=\"row_heading level0 row8\" >8</th>\n",
       "                        <td id=\"T_78d1e_row8_col0\" class=\"data row8 col0\" >256</td>\n",
       "                        <td id=\"T_78d1e_row8_col1\" class=\"data row8 col1\" >2.536665</td>\n",
       "                        <td id=\"T_78d1e_row8_col2\" class=\"data row8 col2\" >0.048330</td>\n",
       "                        <td id=\"T_78d1e_row8_col3\" class=\"data row8 col3\" >0.870713</td>\n",
       "                        <td id=\"T_78d1e_row8_col4\" class=\"data row8 col4\" >0.850000</td>\n",
       "                        <td id=\"T_78d1e_row8_col5\" class=\"data row8 col5\" >0.131325</td>\n",
       "                        <td id=\"T_78d1e_row8_col6\" class=\"data row8 col6\" >0.030829</td>\n",
       "            </tr>\n",
       "    </tbody></table>"
      ],
      "text/plain": [
       "<pandas.io.formats.style.Styler at 0x7fbc000fd5e0>"
      ]
     },
     "execution_count": 10,
     "metadata": {},
     "output_type": "execute_result"
    }
   ],
   "source": [
    "# Relative Performance Stats\n",
    "baselines_stats = runs_by_threadcount[1].performance_stats()\n",
    "\n",
    "data_rows = []\n",
    "for threadcount in threadcounts:\n",
    "    run = runs_by_threadcount[threadcount]\n",
    "    performance_stats = run.performance_stats()\n",
    "    # Make the stats relative to threadcount 1\n",
    "    for key in performance_stats:\n",
    "        performance_stats[key] = performance_stats[key] / baselines_stats[key]\n",
    "\n",
    "    if threadcount == 1:\n",
    "        org = performance_stats\n",
    "\n",
    "\n",
    "    data_row = [threadcount] + [value for key, value in performance_stats.items()]\n",
    "    data_rows.append(data_row)\n",
    "\n",
    "rel_performance_stat_df = DataFrame(data_rows, columns=[\"threadcount\"] + list(performance_stats.keys()))\n",
    "rel_performance_stat_df.style.set_caption(\"EU Dataset - Relative Performance Stat Changes over different threadcounts\")"
   ]
  },
  {
   "cell_type": "markdown",
   "id": "3fb63a3a",
   "metadata": {},
   "source": [
    "### Plot Performance Stats"
   ]
  },
  {
   "cell_type": "code",
   "execution_count": 11,
   "id": "32fdd6d8",
   "metadata": {
    "scrolled": true
   },
   "outputs": [
    {
     "data": {
      "image/png": "[encoded data removed]",
      "text/plain": [
       "<Figure size 1440x360 with 3 Axes>"
      ]
     },
     "metadata": {
      "needs_background": "light"
     },
     "output_type": "display_data"
    }
   ],
   "source": [
    "import matplotlib.pyplot as plt\n",
    "\n",
    "fig, axes = plt.subplots(1,3, figsize=(20,5))\n",
    "fig.suptitle(\"EU Core - Relative Performance Compared to FOX\")\n",
    "rel_performance_stat_df\n",
    "\n",
    "for i, column in enumerate([\"ram peak\", \"total time\", \"avg time per iteration\"]):\n",
    "    axes[i].set_title(f\"{column}\")\n",
    "    axes[i].plot(rel_performance_stat_df[\"threadcount\"], rel_performance_stat_df[column], label=\"eu\")\n",
    "    axes[i].set_xticks(threadcounts)\n",
    "    axes[i].set_xlabel(\"Threadcount\")\n",
    "    axes[i].set_ylabel(\"Relative Change\")\n",
    "    axes[i].legend()"
   ]
  },
  {
   "cell_type": "markdown",
   "id": "9d910296",
   "metadata": {},
   "source": [
    "We can see that the maximum RAM consumed sacles aprox. linearly with the threadcount. The runtime however gets reduced fairly exponentially, caused by the speedup in the individual iterations.\n"
   ]
  },
  {
   "cell_type": "markdown",
   "id": "dca4cbd6",
   "metadata": {},
   "source": [
    "### Plot WCC Development"
   ]
  },
  {
   "cell_type": "code",
   "execution_count": 12,
   "id": "1a800a75",
   "metadata": {
    "scrolled": true
   },
   "outputs": [],
   "source": [
    "# WCC Diff over iteration\n",
    "\n",
    "iterations = {}\n",
    "for threadcount in threadcounts:\n",
    "    r = runs_by_threadcount[threadcount]\n",
    "    iterations[threadcount] = [threadcount] + [i[\"wcc_diff\"] for i in r.iterations]\n",
    "\n",
    "df = DataFrame(list(iterations.values())).transpose()\n",
    "df.columns = list(map(int, df.iloc[0]))\n",
    "df = df.drop(df.index[0])"
   ]
  },
  {
   "cell_type": "code",
   "execution_count": 13,
   "id": "b63a38f0",
   "metadata": {
    "scrolled": true
   },
   "outputs": [
    {
     "data": {
      "text/plain": [
       "<matplotlib.legend.Legend at 0x7fbbc8ad65e0>"
      ]
     },
     "execution_count": 13,
     "metadata": {},
     "output_type": "execute_result"
    },
    {
     "data": {
      "image/png": "[encoded data removed]",
      "text/plain": [
       "<Figure size 720x504 with 1 Axes>"
      ]
     },
     "metadata": {
      "needs_background": "light"
     },
     "output_type": "display_data"
    }
   ],
   "source": [
    "import matplotlib.pyplot as plt\n",
    "from pandas import DataFrame\n",
    "\n",
    "fig, ax = plt.subplots(1,1, figsize=(10,7))\n",
    "fig.suptitle(\"EU Core - WCC Development\")\n",
    "# Plot wcc fidd over iterations\n",
    "df.plot(\n",
    "    xlabel=\"#iteration\",\n",
    "    ylabel=\"wcc change (log)\",\n",
    "    logy=True,\n",
    "    marker='o',\n",
    "    xticks=list(df.index),\n",
    "    title=\"\",\n",
    "    ax=ax,\n",
    ")\n",
    "\n",
    "# Plot wcc diffs\n",
    "for wcc_diff in [0.01 * x for x in range(1, 5)]:\n",
    "    plt.axhline(y=wcc_diff, color='r', linestyle=':')\n",
    "    plt.text(df.index[-1] + 1.5, wcc_diff, str(wcc_diff), color=\"red\")\n",
    "plt.legend(title=\"Threadcount\")"
   ]
  },
  {
   "cell_type": "markdown",
   "id": "e5691c4b",
   "metadata": {},
   "source": [
    "We can see that the wcc changes are dependent on the threadcount. Note that this is due to the low node count in the used EU-Core dataset and is an exception. Refer to the report of this project for further details."
   ]
  }
 ],
 "metadata": {
  "kernelspec": {
   "display_name": "Python 3",
   "language": "python",
   "name": "python3"
  },
  "language_info": {
   "codemirror_mode": {
    "name": "ipython",
    "version": 3
   },
   "file_extension": ".py",
   "mimetype": "text/x-python",
   "name": "python",
   "nbconvert_exporter": "python",
   "pygments_lexer": "ipython3",
   "version": "3.8.10"
  }
 },
 "nbformat": 4,
 "nbformat_minor": 5
}
