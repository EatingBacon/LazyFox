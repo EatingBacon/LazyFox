{
 "cells": [
  {
   "cell_type": "markdown",
   "id": "abb66647",
   "metadata": {},
   "source": [
    "# Utils"
   ]
  },
  {
   "cell_type": "code",
   "execution_count": 1,
   "id": "52eea66c",
   "metadata": {},
   "outputs": [
    {
     "data": {
      "text/html": [
       "\n",
       "\t\t\t<script type=\"text/javascript\">\n",
       "\t\t\t<!--\n",
       "\t\t\t\t\n",
       "\t\t\t{\n",
       "\t\t\t\tvar element = document.getElementById('NetworKit_script');\n",
       "\t\t\t\tif (element) {\n",
       "\t\t\t\t\telement.parentNode.removeChild(element);\n",
       "\t\t\t\t}\n",
       "\t\t\t\telement = document.createElement('script');\n",
       "\t\t\t\telement.type = 'text/javascript';\n",
       "\t\t\t\telement.innerHTML = 'function NetworKit_pageEmbed(id) { var i, j; var elements; elements = document.getElementById(id).getElementsByClassName(\"Plot\"); for (i=0; i<elements.length; i++) { elements[i].id = id + \"_Plot_\" + i; var data = elements[i].getAttribute(\"data-image\").split(\"|\"); elements[i].removeAttribute(\"data-image\"); var content = \"<div class=\\\\\"Image\\\\\" id=\\\\\"\" + elements[i].id + \"_Image\\\\\" />\"; elements[i].innerHTML = content; elements[i].setAttribute(\"data-image-index\", 0); elements[i].setAttribute(\"data-image-length\", data.length); for (j=0; j<data.length; j++) { elements[i].setAttribute(\"data-image-\" + j, data[j]); } NetworKit_plotUpdate(elements[i]); elements[i].onclick = function (e) { NetworKit_overlayShow((e.target) ? e.target : e.srcElement); } } elements = document.getElementById(id).getElementsByClassName(\"HeatCell\"); for (i=0; i<elements.length; i++) { var data = parseFloat(elements[i].getAttribute(\"data-heat\")); var color = \"#00FF00\"; if (data <= 1 && data > 0) { color = \"hsla(0, 100%, 75%, \" + (data) + \")\"; } else if (data <= 0 && data >= -1) { color = \"hsla(240, 100%, 75%, \" + (-data) + \")\"; } elements[i].style.backgroundColor = color; } elements = document.getElementById(id).getElementsByClassName(\"Details\"); for (i=0; i<elements.length; i++) { elements[i].setAttribute(\"data-title\", \"-\"); NetworKit_toggleDetails(elements[i]); elements[i].onclick = function (e) { NetworKit_toggleDetails((e.target) ? e.target : e.srcElement); } } elements = document.getElementById(id).getElementsByClassName(\"MathValue\"); for (i=elements.length-1; i>=0; i--) { value = elements[i].innerHTML.trim(); if (value === \"nan\") { elements[i].parentNode.innerHTML = \"\" } } elements = document.getElementById(id).getElementsByClassName(\"SubCategory\"); for (i=elements.length-1; i>=0; i--) { value = elements[i].innerHTML.trim(); if (value === \"\") { elements[i].parentNode.removeChild(elements[i]) } } elements = document.getElementById(id).getElementsByClassName(\"Category\"); for (i=elements.length-1; i>=0; i--) { value = elements[i].innerHTML.trim(); if (value === \"\") { elements[i].parentNode.removeChild(elements[i]) } } var isFirefox = false; try { isFirefox = typeof InstallTrigger !== \"undefined\"; } catch (e) {} if (!isFirefox) { alert(\"Currently the function\\'s output is only fully supported by Firefox.\"); } } function NetworKit_plotUpdate(source) { var index = source.getAttribute(\"data-image-index\"); var data = source.getAttribute(\"data-image-\" + index); var image = document.getElementById(source.id + \"_Image\"); image.style.backgroundImage = \"url(\" + data + \")\"; } function NetworKit_showElement(id, show) { var element = document.getElementById(id); element.style.display = (show) ? \"block\" : \"none\"; } function NetworKit_overlayShow(source) { NetworKit_overlayUpdate(source); NetworKit_showElement(\"NetworKit_Overlay\", true); } function NetworKit_overlayUpdate(source) { document.getElementById(\"NetworKit_Overlay_Title\").innerHTML = source.title; var index = source.getAttribute(\"data-image-index\"); var data = source.getAttribute(\"data-image-\" + index); var image = document.getElementById(\"NetworKit_Overlay_Image\"); image.setAttribute(\"data-id\", source.id); image.style.backgroundImage = \"url(\" + data + \")\"; var link = document.getElementById(\"NetworKit_Overlay_Toolbar_Bottom_Save\"); link.href = data; link.download = source.title + \".svg\"; } function NetworKit_overlayImageShift(delta) { var image = document.getElementById(\"NetworKit_Overlay_Image\"); var source = document.getElementById(image.getAttribute(\"data-id\")); var index = parseInt(source.getAttribute(\"data-image-index\")); var length = parseInt(source.getAttribute(\"data-image-length\")); var index = (index+delta) % length; if (index < 0) { index = length + index; } source.setAttribute(\"data-image-index\", index); NetworKit_overlayUpdate(source); } function NetworKit_toggleDetails(source) { var childs = source.children; var show = false; if (source.getAttribute(\"data-title\") == \"-\") { source.setAttribute(\"data-title\", \"+\"); show = false; } else { source.setAttribute(\"data-title\", \"-\"); show = true; } for (i=0; i<childs.length; i++) { if (show) { childs[i].style.display = \"block\"; } else { childs[i].style.display = \"none\"; } } }';\n",
       "\t\t\t\telement.setAttribute('id', 'NetworKit_script');\n",
       "\t\t\t\tdocument.head.appendChild(element);\n",
       "\t\t\t}\n",
       "\t\t\n",
       "\t\t\t\t\n",
       "\t\t\t{\n",
       "\t\t\t\tvar element = document.getElementById('NetworKit_style');\n",
       "\t\t\t\tif (element) {\n",
       "\t\t\t\t\telement.parentNode.removeChild(element);\n",
       "\t\t\t\t}\n",
       "\t\t\t\telement = document.createElement('style');\n",
       "\t\t\t\telement.type = 'text/css';\n",
       "\t\t\t\telement.innerHTML = '.NetworKit_Page { font-family: Arial, Helvetica, sans-serif; font-size: 14px; } .NetworKit_Page .Value:before { font-family: Arial, Helvetica, sans-serif; font-size: 1.05em; content: attr(data-title) \":\"; margin-left: -2.5em; padding-right: 0.5em; } .NetworKit_Page .Details .Value:before { display: block; } .NetworKit_Page .Value { font-family: monospace; white-space: pre; padding-left: 2.5em; white-space: -moz-pre-wrap !important; white-space: -pre-wrap; white-space: -o-pre-wrap; white-space: pre-wrap; word-wrap: break-word; tab-size: 4; -moz-tab-size: 4; } .NetworKit_Page .Category { clear: both; padding-left: 1em; margin-bottom: 1.5em; } .NetworKit_Page .Category:before { content: attr(data-title); font-size: 1.75em; display: block; margin-left: -0.8em; margin-bottom: 0.5em; } .NetworKit_Page .SubCategory { margin-bottom: 1.5em; padding-left: 1em; } .NetworKit_Page .SubCategory:before { font-size: 1.6em; display: block; margin-left: -0.8em; margin-bottom: 0.5em; } .NetworKit_Page .SubCategory[data-title]:before { content: attr(data-title); } .NetworKit_Page .Block { display: block; } .NetworKit_Page .Block:after { content: \".\"; visibility: hidden; display: block; height: 0; clear: both; } .NetworKit_Page .Block .Thumbnail_Overview, .NetworKit_Page .Block .Thumbnail_ScatterPlot { width: 260px; float: left; } .NetworKit_Page .Block .Thumbnail_Overview img, .NetworKit_Page .Block .Thumbnail_ScatterPlot img { width: 260px; } .NetworKit_Page .Block .Thumbnail_Overview:before, .NetworKit_Page .Block .Thumbnail_ScatterPlot:before { display: block; text-align: center; font-weight: bold; } .NetworKit_Page .Block .Thumbnail_Overview:before { content: attr(data-title); } .NetworKit_Page .HeatCell { font-family: \"Courier New\", Courier, monospace; cursor: pointer; } .NetworKit_Page .HeatCell, .NetworKit_Page .HeatCellName { display: inline; padding: 0.1em; margin-right: 2px; background-color: #FFFFFF } .NetworKit_Page .HeatCellName { margin-left: 0.25em; } .NetworKit_Page .HeatCell:before { content: attr(data-heat); display: inline-block; color: #000000; width: 4em; text-align: center; } .NetworKit_Page .Measure { clear: both; } .NetworKit_Page .Measure .Details { cursor: pointer; } .NetworKit_Page .Measure .Details:before { content: \"[\" attr(data-title) \"]\"; display: block; } .NetworKit_Page .Measure .Details .Value { border-left: 1px dotted black; margin-left: 0.4em; padding-left: 3.5em; pointer-events: none; } .NetworKit_Page .Measure .Details .Spacer:before { content: \".\"; opacity: 0.0; pointer-events: none; } .NetworKit_Page .Measure .Plot { width: 440px; height: 440px; cursor: pointer; float: left; margin-left: -0.9em; margin-right: 20px; } .NetworKit_Page .Measure .Plot .Image { background-repeat: no-repeat; background-position: center center; background-size: contain; height: 100%; pointer-events: none; } .NetworKit_Page .Measure .Stat { width: 500px; float: left; } .NetworKit_Page .Measure .Stat .Group { padding-left: 1.25em; margin-bottom: 0.75em; } .NetworKit_Page .Measure .Stat .Group .Title { font-size: 1.1em; display: block; margin-bottom: 0.3em; margin-left: -0.75em; border-right-style: dotted; border-right-width: 1px; border-bottom-style: dotted; border-bottom-width: 1px; background-color: #D0D0D0; padding-left: 0.2em; } .NetworKit_Page .Measure .Stat .Group .List { -webkit-column-count: 3; -moz-column-count: 3; column-count: 3; } .NetworKit_Page .Measure .Stat .Group .List .Entry { position: relative; line-height: 1.75em; } .NetworKit_Page .Measure .Stat .Group .List .Entry[data-tooltip]:before { position: absolute; left: 0; top: -40px; background-color: #808080; color: #ffffff; height: 30px; line-height: 30px; border-radius: 5px; padding: 0 15px; content: attr(data-tooltip); white-space: nowrap; display: none; } .NetworKit_Page .Measure .Stat .Group .List .Entry[data-tooltip]:after { position: absolute; left: 15px; top: -10px; border-top: 7px solid #808080; border-left: 7px solid transparent; border-right: 7px solid transparent; content: \"\"; display: none; } .NetworKit_Page .Measure .Stat .Group .List .Entry[data-tooltip]:hover:after, .NetworKit_Page .Measure .Stat .Group .List .Entry[data-tooltip]:hover:before { display: block; } .NetworKit_Page .Measure .Stat .Group .List .Entry .MathValue { font-family: \"Courier New\", Courier, monospace; } .NetworKit_Page .Measure:after { content: \".\"; visibility: hidden; display: block; height: 0; clear: both; } .NetworKit_Page .PartitionPie { clear: both; } .NetworKit_Page .PartitionPie img { width: 600px; } #NetworKit_Overlay { left: 0px; top: 0px; display: none; position: absolute; width: 100%; height: 100%; background-color: rgba(0,0,0,0.6); z-index: 1000; } #NetworKit_Overlay_Title { position: absolute; color: white; transform: rotate(-90deg); width: 32em; height: 32em; padding-right: 0.5em; padding-top: 0.5em; text-align: right; font-size: 40px; } #NetworKit_Overlay .button { background: white; cursor: pointer; } #NetworKit_Overlay .button:before { size: 13px; display: inline-block; text-align: center; margin-top: 0.5em; margin-bottom: 0.5em; width: 1.5em; height: 1.5em; } #NetworKit_Overlay .icon-close:before { content: \"X\"; } #NetworKit_Overlay .icon-previous:before { content: \"P\"; } #NetworKit_Overlay .icon-next:before { content: \"N\"; } #NetworKit_Overlay .icon-save:before { content: \"S\"; } #NetworKit_Overlay_Toolbar_Top, #NetworKit_Overlay_Toolbar_Bottom { position: absolute; width: 40px; right: 13px; text-align: right; z-index: 1100; } #NetworKit_Overlay_Toolbar_Top { top: 0.5em; } #NetworKit_Overlay_Toolbar_Bottom { Bottom: 0.5em; } #NetworKit_Overlay_ImageContainer { position: absolute; top: 5%; left: 5%; height: 90%; width: 90%; background-repeat: no-repeat; background-position: center center; background-size: contain; } #NetworKit_Overlay_Image { height: 100%; width: 100%; background-repeat: no-repeat; background-position: center center; background-size: contain; }';\n",
       "\t\t\t\telement.setAttribute('id', 'NetworKit_style');\n",
       "\t\t\t\tdocument.head.appendChild(element);\n",
       "\t\t\t}\n",
       "\t\t\n",
       "\t\t\t\t\n",
       "\t\t\t{\n",
       "\t\t\t\tvar element = document.getElementById('NetworKit_Overlay');\n",
       "\t\t\t\tif (element) {\n",
       "\t\t\t\t\telement.parentNode.removeChild(element);\n",
       "\t\t\t\t}\n",
       "\t\t\t\telement = document.createElement('div');\n",
       "\t\t\t\telement.innerHTML = '<div id=\"NetworKit_Overlay_Toolbar_Top\"><div class=\"button icon-close\" id=\"NetworKit_Overlay_Close\" /></div><div id=\"NetworKit_Overlay_Title\" /> <div id=\"NetworKit_Overlay_ImageContainer\"> <div id=\"NetworKit_Overlay_Image\" /> </div> <div id=\"NetworKit_Overlay_Toolbar_Bottom\"> <div class=\"button icon-previous\" onclick=\"NetworKit_overlayImageShift(-1)\" /> <div class=\"button icon-next\" onclick=\"NetworKit_overlayImageShift(1)\" /> <a id=\"NetworKit_Overlay_Toolbar_Bottom_Save\"><div class=\"button icon-save\" /></a> </div>';\n",
       "\t\t\t\telement.setAttribute('id', 'NetworKit_Overlay');\n",
       "\t\t\t\tdocument.body.appendChild(element);\n",
       "\t\t\t\tdocument.getElementById('NetworKit_Overlay_Close').onclick = function (e) {\n",
       "\t\t\t\t\tdocument.getElementById('NetworKit_Overlay').style.display = 'none';\n",
       "\t\t\t\t}\n",
       "\t\t\t}\n",
       "\t\t\n",
       "\t\t\t-->\n",
       "\t\t\t</script>\n",
       "\t\t"
      ]
     },
     "metadata": {},
     "output_type": "display_data"
    }
   ],
   "source": [
    "import networkit as nk"
   ]
  },
  {
   "cell_type": "code",
   "execution_count": 2,
   "id": "4bdacd51",
   "metadata": {},
   "outputs": [],
   "source": [
    "from networkit.community import CoverF1Similarity, OverlappingNMIDistance\n",
    "\n",
    "\n",
    "def calc_f1(\n",
    "    graph: nk.Graph,\n",
    "    ground_truth: nk.Cover,\n",
    "    lazy_fox_result: nk.Cover,\n",
    ") -> float:\n",
    "    # F1\n",
    "    f1 = CoverF1Similarity(graph, ground_truth, lazy_fox_result)\n",
    "    f1.run()\n",
    "    return f1.getWeightedAverage()\n",
    "\n",
    "def calc_nmi(\n",
    "    graph: nk.Graph,\n",
    "    ground_truth: nk.Cover,\n",
    "    lazy_fox_result: nk.Cover,\n",
    ") -> float:\n",
    "    nmi = OverlappingNMIDistance()\n",
    "    distance = nmi.getDissimilarity(graph, ground_truth, lazy_fox_result)\n",
    "    return distance"
   ]
  },
  {
   "cell_type": "code",
   "execution_count": 3,
   "id": "d381bde2",
   "metadata": {},
   "outputs": [],
   "source": [
    "from networkit.graphio import CoverReader\n",
    "from pathlib import Path\n",
    "from os import listdir\n",
    "\n",
    "\n",
    "cover_reader = CoverReader()\n",
    "\n",
    "def load_lazyfox_as_cover(outpath: Path, graph: nk.Graph) -> nk.Cover:\n",
    "    \"\"\"When pointed at a lazyFOX output directory,\n",
    "    reads in the last iteration and returns it as networkx.Cover object\"\"\"\n",
    "    files = listdir(outpath / \"iterations\")\n",
    "    highest_iteration = 0\n",
    "    for f in files:\n",
    "        if \"clusters\" not in f:\n",
    "            continue\n",
    "        iteration = int(f[:f.index(\"clusters.txt\")])\n",
    "        highest_iteration = max(highest_iteration, iteration)\n",
    "        \n",
    "    return cover_reader.read(\n",
    "        str(outpath / \"iterations\" / f\"{highest_iteration}clusters.txt\"),\n",
    "        graph,\n",
    "    )"
   ]
  },
  {
   "cell_type": "code",
   "execution_count": 4,
   "id": "6e23974a",
   "metadata": {},
   "outputs": [],
   "source": [
    "import networkx as nx\n",
    "from networkit.nxadapter import nx2nk\n",
    "\n",
    "\n",
    "def load_edgelist(path: Path) -> nk.Graph:\n",
    "    return nx2nk(nx.read_edgelist(path))"
   ]
  },
  {
   "cell_type": "markdown",
   "id": "4a065885",
   "metadata": {},
   "source": [
    "# Alternative Algos"
   ]
  },
  {
   "cell_type": "code",
   "execution_count": 5,
   "id": "dfbe2eb5",
   "metadata": {},
   "outputs": [],
   "source": [
    "ALTERNATIVE_ALGOS_ROOT = \"/home/timgarrels/Projects/LazyFox/alternative_algos/data\"\n",
    "DATASET_DIRECTORY = \"/home/timgarrels/Projects/LazyFox/notebooks/datasets/\"\n",
    "DATASETS = [\"eu\", \"dblp\", \"lj\"]"
   ]
  },
  {
   "cell_type": "code",
   "execution_count": 6,
   "id": "ae37b863",
   "metadata": {},
   "outputs": [],
   "source": [
    "from os.path import join\n",
    "\n",
    "\n",
    "def get_graph(dataset):\n",
    "    return nk.readGraph(\n",
    "        join(DATASET_DIRECTORY, f\"rewritten_{dataset}_graph.txt\"),\n",
    "        nk.Format.SNAP,\n",
    "    )\n",
    "\n",
    "def get_ground_truth(dataset):\n",
    "    graph = get_graph(dataset)\n",
    "    return cover_reader.read(\n",
    "        join(DATASET_DIRECTORY, f\"rewritten_{dataset}_gt.txt\"),\n",
    "        graph,\n",
    "    )\n"
   ]
  },
  {
   "cell_type": "code",
   "execution_count": 7,
   "id": "a35e3ea0",
   "metadata": {},
   "outputs": [],
   "source": [
    "from pathlib import Path\n",
    "import json\n",
    "from tqdm import tqdm\n",
    "\n",
    "\n",
    "cover_reader = CoverReader()\n",
    "\n",
    "def rewrite_cover(src: Path, dest: Path, dataset: str, sep: str=\" \"):\n",
    "    \"\"\"For algorithms that ran on unedited graphs, we need to apply\n",
    "    the node mapping produced by the Rewriter.py\"\"\"\n",
    "\n",
    "    if dest.exists():\n",
    "        return\n",
    "\n",
    "    with open(Path(DATASET_DIRECTORY) / f\"node_mapping_{dataset}.json\", \"r\") as f:\n",
    "        node_mapping = json.load(f)\n",
    "        \n",
    "    with open(\n",
    "        src,\n",
    "        \"r\",\n",
    "    ) as source:\n",
    "        with open(\n",
    "            dest,\n",
    "            \"w\",\n",
    "        ) as target:\n",
    "            for l in tqdm(source.readlines()):\n",
    "                if l[0] == \"#\":\n",
    "                    target.write(l)\n",
    "                    continue\n",
    "                nodes = map(\n",
    "                    lambda label: str(node_mapping[label]),\n",
    "                    l.strip().split(sep)\n",
    "                )\n",
    "                target.write(sep.join(nodes))\n",
    "                target.write(\"\\n\")   "
   ]
  },
  {
   "cell_type": "code",
   "execution_count": 8,
   "id": "a8c3905e",
   "metadata": {},
   "outputs": [],
   "source": [
    "def oslom_reader(output_dir: Path, graph, level=0) -> nk.Cover:\n",
    "    \"\"\"Point me at a OSLOM output directory and I'll return the communities\n",
    "    of the first hierarchy\"\"\"\n",
    "    postfix = \"\" if level == 0 else str(level)\n",
    "    rewritten_cover_name = f\"rewritten_tp{postfix}\"\n",
    "    \n",
    "    return cover_reader.read(\n",
    "        str(output_dir / rewritten_cover_name),\n",
    "        graph,\n",
    "    )"
   ]
  },
  {
   "cell_type": "code",
   "execution_count": 9,
   "id": "3dd196bd",
   "metadata": {},
   "outputs": [],
   "source": [
    "def get_oslom_result(dataset, graph=None, gt=None, level=0):\n",
    "    print(\"OSLOM\")\n",
    "    if graph is None:\n",
    "        print(\"\\tGraph\")\n",
    "        graph = get_graph(dataset)\n",
    "    if gt is None:\n",
    "        print(\"\\tGT\")\n",
    "        gt = get_ground_truth(dataset)\n",
    "        \n",
    "    postfix = \"\" if level == 0 else str(level)\n",
    "    \n",
    "    cover_path = Path(ALTERNATIVE_ALGOS_ROOT) / \"other_algo_results\" / f\"oslom_{dataset}\" / f\"tp{postfix}\"\n",
    "    rewrite_path = Path(ALTERNATIVE_ALGOS_ROOT) / \"other_algo_results\" / f\"oslom_{dataset}\" / f\"rewritten_tp{postfix}\"\n",
    "    \n",
    "    print(\"\\tRewrite\")\n",
    "    rewrite_cover(\n",
    "        cover_path,\n",
    "        rewrite_path,\n",
    "        dataset,\n",
    "    )\n",
    "    print(\"\\tCover\")\n",
    "    oslom_cover = oslom_reader(\n",
    "        Path(ALTERNATIVE_ALGOS_ROOT) / \"other_algo_results\" / f\"oslom_{dataset}\",\n",
    "        graph,\n",
    "        level=level\n",
    "    )\n",
    "    return {\n",
    "        \"Dataset\": dataset,\n",
    "        \"Runtime\": -1,\n",
    "        \"F1\": calc_f1(graph, gt, oslom_cover),\n",
    "        \"NMI Distance\": calc_nmi(graph, gt, oslom_cover),\n",
    "        \"Algorithm\": \"oslom\",\n",
    "    }    "
   ]
  },
  {
   "cell_type": "code",
   "execution_count": 10,
   "id": "404ace39",
   "metadata": {
    "scrolled": false
   },
   "outputs": [
    {
     "name": "stdout",
     "output_type": "stream",
     "text": [
      "eu\n",
      "BigClam\n",
      "CoreExp\n",
      "OSLOM\n",
      "\tGraph\n",
      "\tGT\n",
      "\tRewrite\n",
      "\tCover\n",
      "dblp\n",
      "BigClam\n",
      "CoreExp\n",
      "OSLOM\n",
      "\tGraph\n",
      "\tGT\n",
      "\tRewrite\n",
      "\tCover\n",
      "lj\n",
      "BigClam\n",
      "CoreExp\n",
      "OSLOM\n",
      "\tGraph\n",
      "\tGT\n",
      "\tRewrite\n",
      "\tCover\n"
     ]
    }
   ],
   "source": [
    "import pandas as pd\n",
    "from pandas import DataFrame\n",
    "\n",
    "dataframes = {}\n",
    "for dataset in DATASETS:\n",
    "    print(dataset)\n",
    "    \n",
    "    print(\"BigClam\")\n",
    "    big_clam = pd.read_csv(\n",
    "        Path(ALTERNATIVE_ALGOS_ROOT) / \"other_algo_results\" / \"big_clam_results\" / f\"big_clam_{dataset}.gt_metrics\",\n",
    "        index_col=0,\n",
    "    )\n",
    "    big_clam[\"Algorithm\"] = \"big_clam\"\n",
    "    \n",
    "    print(\"CoreExp\")\n",
    "    if dataset == \"lj\":\n",
    "        core_exp = DataFrame([{\"Dataset\": \"lj\", \"Runtime\": \"NaN\", \"F1\": \"NaN\", \"NMI Distance\": \"NaN\"}])\n",
    "    else:\n",
    "        core_exp = pd.read_csv(\n",
    "            Path(ALTERNATIVE_ALGOS_ROOT) / \"other_algo_results\" / \"core_exp_results\" / f\"core_expansion_{dataset}.gt_metrics\",\n",
    "            index_col=0,\n",
    "        )\n",
    "    core_exp[\"Algorithm\"] = \"core_exp\"\n",
    "\n",
    "    oslom = DataFrame([\n",
    "        get_oslom_result(dataset)\n",
    "    ])\n",
    "    \n",
    "    dataframes[dataset] = pd.concat([big_clam, core_exp, oslom])"
   ]
  },
  {
   "cell_type": "code",
   "execution_count": 11,
   "id": "87cc7c08",
   "metadata": {},
   "outputs": [
    {
     "data": {
      "text/html": [
       "<div>\n",
       "<style scoped>\n",
       "    .dataframe tbody tr th:only-of-type {\n",
       "        vertical-align: middle;\n",
       "    }\n",
       "\n",
       "    .dataframe tbody tr th {\n",
       "        vertical-align: top;\n",
       "    }\n",
       "\n",
       "    .dataframe thead th {\n",
       "        text-align: right;\n",
       "    }\n",
       "</style>\n",
       "<table border=\"1\" class=\"dataframe\">\n",
       "  <thead>\n",
       "    <tr style=\"text-align: right;\">\n",
       "      <th></th>\n",
       "      <th>Dataset</th>\n",
       "      <th>Runtime</th>\n",
       "      <th>F1</th>\n",
       "      <th>NMI Distance</th>\n",
       "      <th>Algorithm</th>\n",
       "    </tr>\n",
       "  </thead>\n",
       "  <tbody>\n",
       "    <tr>\n",
       "      <th>0</th>\n",
       "      <td>eu</td>\n",
       "      <td>2.773455</td>\n",
       "      <td>0.097267</td>\n",
       "      <td>0.996758</td>\n",
       "      <td>big_clam</td>\n",
       "    </tr>\n",
       "    <tr>\n",
       "      <th>0</th>\n",
       "      <td>eu</td>\n",
       "      <td>3.948965</td>\n",
       "      <td>0.123576</td>\n",
       "      <td>1.000000</td>\n",
       "      <td>core_exp</td>\n",
       "    </tr>\n",
       "    <tr>\n",
       "      <th>0</th>\n",
       "      <td>eu</td>\n",
       "      <td>-1.000000</td>\n",
       "      <td>0.648454</td>\n",
       "      <td>0.553498</td>\n",
       "      <td>oslom</td>\n",
       "    </tr>\n",
       "  </tbody>\n",
       "</table>\n",
       "</div>"
      ],
      "text/plain": [
       "  Dataset   Runtime        F1  NMI Distance Algorithm\n",
       "0      eu  2.773455  0.097267      0.996758  big_clam\n",
       "0      eu  3.948965  0.123576      1.000000  core_exp\n",
       "0      eu -1.000000  0.648454      0.553498     oslom"
      ]
     },
     "execution_count": 11,
     "metadata": {},
     "output_type": "execute_result"
    }
   ],
   "source": [
    "dataframes[\"eu\"]"
   ]
  },
  {
   "cell_type": "code",
   "execution_count": 12,
   "id": "fd1cedcb",
   "metadata": {
    "scrolled": true
   },
   "outputs": [
    {
     "data": {
      "text/html": [
       "<div>\n",
       "<style scoped>\n",
       "    .dataframe tbody tr th:only-of-type {\n",
       "        vertical-align: middle;\n",
       "    }\n",
       "\n",
       "    .dataframe tbody tr th {\n",
       "        vertical-align: top;\n",
       "    }\n",
       "\n",
       "    .dataframe thead th {\n",
       "        text-align: right;\n",
       "    }\n",
       "</style>\n",
       "<table border=\"1\" class=\"dataframe\">\n",
       "  <thead>\n",
       "    <tr style=\"text-align: right;\">\n",
       "      <th></th>\n",
       "      <th>Dataset</th>\n",
       "      <th>Runtime</th>\n",
       "      <th>F1</th>\n",
       "      <th>NMI Distance</th>\n",
       "      <th>Algorithm</th>\n",
       "    </tr>\n",
       "  </thead>\n",
       "  <tbody>\n",
       "    <tr>\n",
       "      <th>0</th>\n",
       "      <td>dblp</td>\n",
       "      <td>811.162802</td>\n",
       "      <td>0.008093</td>\n",
       "      <td>1.000000</td>\n",
       "      <td>big_clam</td>\n",
       "    </tr>\n",
       "    <tr>\n",
       "      <th>0</th>\n",
       "      <td>dblp</td>\n",
       "      <td>115997.683404</td>\n",
       "      <td>0.031101</td>\n",
       "      <td>1.000000</td>\n",
       "      <td>core_exp</td>\n",
       "    </tr>\n",
       "    <tr>\n",
       "      <th>0</th>\n",
       "      <td>dblp</td>\n",
       "      <td>-1.000000</td>\n",
       "      <td>0.121664</td>\n",
       "      <td>0.963287</td>\n",
       "      <td>oslom</td>\n",
       "    </tr>\n",
       "  </tbody>\n",
       "</table>\n",
       "</div>"
      ],
      "text/plain": [
       "  Dataset        Runtime        F1  NMI Distance Algorithm\n",
       "0    dblp     811.162802  0.008093      1.000000  big_clam\n",
       "0    dblp  115997.683404  0.031101      1.000000  core_exp\n",
       "0    dblp      -1.000000  0.121664      0.963287     oslom"
      ]
     },
     "execution_count": 12,
     "metadata": {},
     "output_type": "execute_result"
    }
   ],
   "source": [
    "dataframes[\"dblp\"]"
   ]
  },
  {
   "cell_type": "code",
   "execution_count": 13,
   "id": "10aa8a67",
   "metadata": {},
   "outputs": [
    {
     "data": {
      "text/html": [
       "<div>\n",
       "<style scoped>\n",
       "    .dataframe tbody tr th:only-of-type {\n",
       "        vertical-align: middle;\n",
       "    }\n",
       "\n",
       "    .dataframe tbody tr th {\n",
       "        vertical-align: top;\n",
       "    }\n",
       "\n",
       "    .dataframe thead th {\n",
       "        text-align: right;\n",
       "    }\n",
       "</style>\n",
       "<table border=\"1\" class=\"dataframe\">\n",
       "  <thead>\n",
       "    <tr style=\"text-align: right;\">\n",
       "      <th></th>\n",
       "      <th>Dataset</th>\n",
       "      <th>Runtime</th>\n",
       "      <th>F1</th>\n",
       "      <th>NMI Distance</th>\n",
       "      <th>Algorithm</th>\n",
       "    </tr>\n",
       "  </thead>\n",
       "  <tbody>\n",
       "    <tr>\n",
       "      <th>0</th>\n",
       "      <td>lj</td>\n",
       "      <td>12733.231291</td>\n",
       "      <td>0.002693</td>\n",
       "      <td>1.0</td>\n",
       "      <td>big_clam</td>\n",
       "    </tr>\n",
       "    <tr>\n",
       "      <th>0</th>\n",
       "      <td>lj</td>\n",
       "      <td>NaN</td>\n",
       "      <td>NaN</td>\n",
       "      <td>NaN</td>\n",
       "      <td>core_exp</td>\n",
       "    </tr>\n",
       "    <tr>\n",
       "      <th>0</th>\n",
       "      <td>lj</td>\n",
       "      <td>-1</td>\n",
       "      <td>0.112168</td>\n",
       "      <td>0.988821</td>\n",
       "      <td>oslom</td>\n",
       "    </tr>\n",
       "  </tbody>\n",
       "</table>\n",
       "</div>"
      ],
      "text/plain": [
       "  Dataset       Runtime        F1 NMI Distance Algorithm\n",
       "0      lj  12733.231291  0.002693          1.0  big_clam\n",
       "0      lj           NaN       NaN          NaN  core_exp\n",
       "0      lj            -1  0.112168     0.988821     oslom"
      ]
     },
     "execution_count": 13,
     "metadata": {},
     "output_type": "execute_result"
    }
   ],
   "source": [
    "dataframes[\"lj\"]"
   ]
  },
  {
   "cell_type": "code",
   "execution_count": 14,
   "id": "d3314026",
   "metadata": {},
   "outputs": [],
   "source": [
    "import os\n",
    "\n",
    "LAZYFOX_RESULTS = Path(ALTERNATIVE_ALGOS_ROOT) / \"lazyfox_results\"\n",
    "\n",
    "\n",
    "def get_lazyfox_cover(dataset: str, queue_size: int) -> nk.Cover:\n",
    "    graph = get_graph(dataset)\n",
    "\n",
    "    dataset_results = LAZYFOX_RESULTS / f\"{dataset}_output\"\n",
    "    run = f\"run_{dataset}_with_{queue_size}\"\n",
    "    \n",
    "    if not os.path.isdir(dataset_results / run):\n",
    "        raise KeyError(f\"No run for queue_size {queue_size}\")\n",
    "    \n",
    "    lazyfox_output = dataset_results / run / os.listdir(dataset_results / run)[0] / \"iterations\"\n",
    "    filename = [f for f in os.listdir(lazyfox_output) if f[f.index(\".\"):] == \".txt\"][0]\n",
    "\n",
    "    result_file = lazyfox_output / filename\n",
    "    \n",
    "    rewrite_cover(\n",
    "        result_file,\n",
    "        lazyfox_output / f\"{filename}_rewritten\",\n",
    "        dataset,\n",
    "        sep=\"\\t\",\n",
    "    )\n",
    "\n",
    "    return cover_reader.read(\n",
    "        str(lazyfox_output / f\"{filename}_rewritten\"),\n",
    "        graph,\n",
    "    )"
   ]
  },
  {
   "cell_type": "code",
   "execution_count": 15,
   "id": "ced25b76",
   "metadata": {},
   "outputs": [],
   "source": [
    "queue_sizes = [1, 2, 4, 8, 16, 32, 64, 128, 256]"
   ]
  },
  {
   "cell_type": "code",
   "execution_count": 16,
   "id": "2ed9bb97",
   "metadata": {
    "scrolled": true
   },
   "outputs": [
    {
     "name": "stderr",
     "output_type": "stream",
     "text": [
      "  0%|                                                                               | 0/3 [00:00<?, ?it/s]\n",
      "  0%|                                                                               | 0/9 [00:00<?, ?it/s]\u001b[A\n",
      "                                                                                                          \u001b[A\n",
      "  0%|                                                                               | 0/9 [00:00<?, ?it/s]\u001b[A\n",
      " 11%|███████▉                                                               | 1/9 [00:02<00:22,  2.78s/it]\u001b[A\n",
      " 22%|███████████████▊                                                       | 2/9 [00:05<00:20,  2.88s/it]\u001b[A\n",
      " 33%|███████████████████████▋                                               | 3/9 [00:08<00:17,  2.89s/it]\u001b[A\n",
      " 44%|███████████████████████████████▌                                       | 4/9 [00:11<00:14,  2.86s/it]\u001b[A\n",
      " 56%|███████████████████████████████████████▍                               | 5/9 [00:14<00:11,  2.85s/it]\u001b[A\n",
      " 67%|███████████████████████████████████████████████▎                       | 6/9 [00:17<00:08,  2.82s/it]\u001b[A\n",
      " 78%|███████████████████████████████████████████████████████▏               | 7/9 [00:19<00:05,  2.81s/it]\u001b[A\n",
      " 89%|███████████████████████████████████████████████████████████████        | 8/9 [00:22<00:02,  2.82s/it]\u001b[A\n",
      "100%|███████████████████████████████████████████████████████████████████████| 9/9 [00:25<00:00,  2.84s/it]\u001b[A\n",
      " 67%|███████████████████████████████████████████████▎                       | 2/3 [00:27<00:13, 13.74s/it]\u001b[A\n",
      "  0%|                                                                               | 0/9 [00:00<?, ?it/s]\u001b[A\n",
      " 67%|███████████████████████████████████████████████▎                       | 2/3 [02:12<01:06, 66.15s/it]\u001b[A\n"
     ]
    },
    {
     "ename": "KeyboardInterrupt",
     "evalue": "",
     "output_type": "error",
     "traceback": [
      "\u001b[0;31m---------------------------------------------------------------------------\u001b[0m",
      "\u001b[0;31mKeyboardInterrupt\u001b[0m                         Traceback (most recent call last)",
      "Cell \u001b[0;32mIn[16], line 14\u001b[0m\n\u001b[1;32m     12\u001b[0m raw_data \u001b[38;5;241m=\u001b[39m []\n\u001b[1;32m     13\u001b[0m \u001b[38;5;28;01mfor\u001b[39;00m qsize \u001b[38;5;129;01min\u001b[39;00m tqdm(queue_sizes, leave\u001b[38;5;241m=\u001b[39m\u001b[38;5;28;01mFalse\u001b[39;00m):\n\u001b[0;32m---> 14\u001b[0m     lazyfox_cover \u001b[38;5;241m=\u001b[39m \u001b[43mget_lazyfox_cover\u001b[49m\u001b[43m(\u001b[49m\u001b[43mdataset\u001b[49m\u001b[43m,\u001b[49m\u001b[43m \u001b[49m\u001b[43mqsize\u001b[49m\u001b[43m)\u001b[49m\n\u001b[1;32m     15\u001b[0m     f1 \u001b[38;5;241m=\u001b[39m calc_f1(graph, gt, lazyfox_cover)\n\u001b[1;32m     16\u001b[0m     onmi \u001b[38;5;241m=\u001b[39m calc_nmi(graph, gt, lazyfox_cover)\n",
      "Cell \u001b[0;32mIn[14], line 7\u001b[0m, in \u001b[0;36mget_lazyfox_cover\u001b[0;34m(dataset, queue_size)\u001b[0m\n\u001b[1;32m      6\u001b[0m \u001b[38;5;28;01mdef\u001b[39;00m \u001b[38;5;21mget_lazyfox_cover\u001b[39m(dataset: \u001b[38;5;28mstr\u001b[39m, queue_size: \u001b[38;5;28mint\u001b[39m) \u001b[38;5;241m-\u001b[39m\u001b[38;5;241m>\u001b[39m nk\u001b[38;5;241m.\u001b[39mCover:\n\u001b[0;32m----> 7\u001b[0m     graph \u001b[38;5;241m=\u001b[39m \u001b[43mget_graph\u001b[49m\u001b[43m(\u001b[49m\u001b[43mdataset\u001b[49m\u001b[43m)\u001b[49m\n\u001b[1;32m      9\u001b[0m     dataset_results \u001b[38;5;241m=\u001b[39m LAZYFOX_RESULTS \u001b[38;5;241m/\u001b[39m \u001b[38;5;124mf\u001b[39m\u001b[38;5;124m\"\u001b[39m\u001b[38;5;132;01m{\u001b[39;00mdataset\u001b[38;5;132;01m}\u001b[39;00m\u001b[38;5;124m_output\u001b[39m\u001b[38;5;124m\"\u001b[39m\n\u001b[1;32m     10\u001b[0m     run \u001b[38;5;241m=\u001b[39m \u001b[38;5;124mf\u001b[39m\u001b[38;5;124m\"\u001b[39m\u001b[38;5;124mrun_\u001b[39m\u001b[38;5;132;01m{\u001b[39;00mdataset\u001b[38;5;132;01m}\u001b[39;00m\u001b[38;5;124m_with_\u001b[39m\u001b[38;5;132;01m{\u001b[39;00mqueue_size\u001b[38;5;132;01m}\u001b[39;00m\u001b[38;5;124m\"\u001b[39m\n",
      "Cell \u001b[0;32mIn[6], line 5\u001b[0m, in \u001b[0;36mget_graph\u001b[0;34m(dataset)\u001b[0m\n\u001b[1;32m      4\u001b[0m \u001b[38;5;28;01mdef\u001b[39;00m \u001b[38;5;21mget_graph\u001b[39m(dataset):\n\u001b[0;32m----> 5\u001b[0m     \u001b[38;5;28;01mreturn\u001b[39;00m \u001b[43mnk\u001b[49m\u001b[38;5;241;43m.\u001b[39;49m\u001b[43mreadGraph\u001b[49m\u001b[43m(\u001b[49m\n\u001b[1;32m      6\u001b[0m \u001b[43m        \u001b[49m\u001b[43mjoin\u001b[49m\u001b[43m(\u001b[49m\u001b[43mDATASET_DIRECTORY\u001b[49m\u001b[43m,\u001b[49m\u001b[43m \u001b[49m\u001b[38;5;124;43mf\u001b[39;49m\u001b[38;5;124;43m\"\u001b[39;49m\u001b[38;5;124;43mrewritten_\u001b[39;49m\u001b[38;5;132;43;01m{\u001b[39;49;00m\u001b[43mdataset\u001b[49m\u001b[38;5;132;43;01m}\u001b[39;49;00m\u001b[38;5;124;43m_graph.txt\u001b[39;49m\u001b[38;5;124;43m\"\u001b[39;49m\u001b[43m)\u001b[49m\u001b[43m,\u001b[49m\n\u001b[1;32m      7\u001b[0m \u001b[43m        \u001b[49m\u001b[43mnk\u001b[49m\u001b[38;5;241;43m.\u001b[39;49m\u001b[43mFormat\u001b[49m\u001b[38;5;241;43m.\u001b[39;49m\u001b[43mSNAP\u001b[49m\u001b[43m,\u001b[49m\n\u001b[1;32m      8\u001b[0m \u001b[43m    \u001b[49m\u001b[43m)\u001b[49m\n",
      "\u001b[0;31mKeyboardInterrupt\u001b[0m: "
     ]
    }
   ],
   "source": [
    "from pandas import DataFrame\n",
    "\n",
    "\n",
    "queue_sizes = [1, 2, 4, 8, 16, 32, 64, 128, 256]\n",
    "\n",
    "lazyfox_datasets = {}\n",
    "\n",
    "for dataset in tqdm(DATASETS):\n",
    "    graph = get_graph(dataset)\n",
    "    gt = get_ground_truth(dataset)\n",
    "    \n",
    "    raw_data = []\n",
    "    for qsize in tqdm(queue_sizes, leave=False):\n",
    "        lazyfox_cover = get_lazyfox_cover(dataset, qsize)\n",
    "        f1 = calc_f1(graph, gt, lazyfox_cover)\n",
    "        onmi = calc_nmi(graph, gt, lazyfox_cover)\n",
    "        \n",
    "        raw_data.append({\n",
    "            \"Dataset\": dataset,\n",
    "            \"Runtime\": -1,\n",
    "            \"F1\": f1,\n",
    "            \"NMI Distance\": onmi,\n",
    "            \"queue_size\": qsize,\n",
    "            \"Algorithm\": \"lazyfox\",      \n",
    "        })\n",
    "    \n",
    "    lazyfox_datasets[dataset] = DataFrame(raw_data)\n",
    "    "
   ]
  },
  {
   "cell_type": "code",
   "execution_count": null,
   "id": "79e64cf2",
   "metadata": {},
   "outputs": [],
   "source": [
    "lazyfox_datasets[\"eu\"]"
   ]
  },
  {
   "cell_type": "code",
   "execution_count": null,
   "id": "133b9fc2",
   "metadata": {},
   "outputs": [],
   "source": [
    "lazyfox_datasets[\"dblp\"]"
   ]
  },
  {
   "cell_type": "code",
   "execution_count": null,
   "id": "8b7ed8ae",
   "metadata": {
    "scrolled": true
   },
   "outputs": [],
   "source": [
    "lazyfox_datasets[\"lj\"]"
   ]
  },
  {
   "cell_type": "code",
   "execution_count": null,
   "id": "819e733c",
   "metadata": {},
   "outputs": [],
   "source": [
    "import pickle\n",
    "\n",
    "with open(\"alternative_scores.pickle\", \"wb\") as f:\n",
    "    pickle.dump(dataframes, f)\n",
    "    \n",
    "with open(\"lazyFOX_scores.pickle\", \"wb\") as f:\n",
    "    pickle.dump(lazyfox_datasets, f)"
   ]
  },
  {
   "cell_type": "code",
   "execution_count": 28,
   "id": "78d37fba",
   "metadata": {},
   "outputs": [
    {
     "data": {
      "text/plain": [
       "['tp1', 'tp2', 'tp']"
      ]
     },
     "execution_count": 28,
     "metadata": {},
     "output_type": "execute_result"
    }
   ],
   "source": [
    "\n",
    "tp_pattern = re.compile(\"tp\\d*\")\n",
    "oslom_out = Path(ALTERNATIVE_ALGOS_ROOT) / \"other_algo_results\" / f\"oslom_eu\"\n",
    "\n",
    "tp_files = [f for f in listdir(oslom_out) if tp_pattern.match(f)]\n",
    "tp_files"
   ]
  },
  {
   "cell_type": "code",
   "execution_count": null,
   "id": "b2757dc5",
   "metadata": {
    "scrolled": true
   },
   "outputs": [
    {
     "name": "stderr",
     "output_type": "stream",
     "text": [
      "Datasets: eu:   0%|                                                                 | 0/3 [00:00<?, ?it/s]\n",
      "level: 100%|████████████████████████████████████████████████████████████████| 3/3 [00:00<00:00, 51.85it/s]\u001b[A\n",
      "Datasets: dblp:   0%|                                                               | 0/3 [00:00<?, ?it/s]"
     ]
    },
    {
     "name": "stdout",
     "output_type": "stream",
     "text": [
      "OSLOM\n",
      "\tGraph\n",
      "\tGT\n",
      "\tRewrite\n",
      "\tCover\n",
      "OSLOM\n",
      "\tGraph\n",
      "\tGT\n",
      "\tRewrite\n",
      "\tCover\n",
      "OSLOM\n",
      "\tGraph\n",
      "\tGT\n",
      "\tRewrite\n",
      "\tCover\n"
     ]
    },
    {
     "name": "stderr",
     "output_type": "stream",
     "text": [
      "\n",
      "level:   0%|                                                                        | 0/9 [00:00<?, ?it/s]\u001b[A"
     ]
    },
    {
     "name": "stdout",
     "output_type": "stream",
     "text": [
      "OSLOM\n",
      "\tGraph\n",
      "\tGT\n",
      "\tRewrite\n",
      "\tCover\n"
     ]
    },
    {
     "name": "stderr",
     "output_type": "stream",
     "text": [
      "\n",
      "level:  11%|███████                                                         | 1/9 [00:04<00:33,  4.14s/it]\u001b[A"
     ]
    },
    {
     "name": "stdout",
     "output_type": "stream",
     "text": [
      "OSLOM\n",
      "\tGraph\n",
      "\tGT\n",
      "\tRewrite\n",
      "\tCover\n"
     ]
    },
    {
     "name": "stderr",
     "output_type": "stream",
     "text": [
      "\n",
      "level:  22%|██████████████▏                                                 | 2/9 [00:08<00:28,  4.14s/it]\u001b[A"
     ]
    },
    {
     "name": "stdout",
     "output_type": "stream",
     "text": [
      "OSLOM\n",
      "\tGraph\n",
      "\tGT\n",
      "\tRewrite\n",
      "\tCover\n"
     ]
    },
    {
     "name": "stderr",
     "output_type": "stream",
     "text": [
      "\n",
      "level:  33%|█████████████████████▎                                          | 3/9 [00:12<00:24,  4.11s/it]\u001b[A"
     ]
    },
    {
     "name": "stdout",
     "output_type": "stream",
     "text": [
      "OSLOM\n",
      "\tGraph\n",
      "\tGT\n",
      "\tRewrite\n",
      "\tCover\n"
     ]
    },
    {
     "name": "stderr",
     "output_type": "stream",
     "text": [
      "\n",
      "level:  44%|████████████████████████████▍                                   | 4/9 [00:16<00:20,  4.09s/it]\u001b[A"
     ]
    },
    {
     "name": "stdout",
     "output_type": "stream",
     "text": [
      "OSLOM\n",
      "\tGraph\n",
      "\tGT\n",
      "\tRewrite\n"
     ]
    },
    {
     "name": "stderr",
     "output_type": "stream",
     "text": [
      "\n",
      "\n",
      "  0%|                                                                            | 0/2394 [00:00<?, ?it/s]\u001b[A\u001b[A\n",
      "\n",
      "  4%|██▊                                                             | 106/2394 [00:00<00:02, 1054.49it/s]\u001b[A\u001b[A\n",
      "\n",
      "100%|███████████████████████████████████████████████████████████████| 2394/2394 [00:00<00:00, 9178.11it/s]\u001b[A\u001b[A\n"
     ]
    },
    {
     "name": "stdout",
     "output_type": "stream",
     "text": [
      "\tCover\n"
     ]
    },
    {
     "name": "stderr",
     "output_type": "stream",
     "text": [
      "\n",
      "level:  56%|███████████████████████████████████▌                            | 5/9 [00:20<00:16,  4.20s/it]\u001b[A"
     ]
    },
    {
     "name": "stdout",
     "output_type": "stream",
     "text": [
      "OSLOM\n",
      "\tGraph\n",
      "\tGT\n",
      "\tRewrite\n"
     ]
    },
    {
     "name": "stderr",
     "output_type": "stream",
     "text": [
      "\n",
      "\n",
      "  0%|                                                                            | 0/2022 [00:00<?, ?it/s]\u001b[A\u001b[A\n",
      "\n",
      "  1%|▍                                                                 | 12/2022 [00:00<00:17, 115.10it/s]\u001b[A\u001b[A\n",
      "\n",
      "100%|███████████████████████████████████████████████████████████████| 2022/2022 [00:00<00:00, 6735.97it/s]\u001b[A\u001b[A\n"
     ]
    },
    {
     "name": "stdout",
     "output_type": "stream",
     "text": [
      "\tCover\n"
     ]
    },
    {
     "name": "stderr",
     "output_type": "stream",
     "text": [
      "\n",
      "level:  67%|██████████████████████████████████████████▋                     | 6/9 [00:25<00:12,  4.25s/it]\u001b[A"
     ]
    },
    {
     "name": "stdout",
     "output_type": "stream",
     "text": [
      "OSLOM\n",
      "\tGraph\n",
      "\tGT\n",
      "\tRewrite\n"
     ]
    },
    {
     "name": "stderr",
     "output_type": "stream",
     "text": [
      "\n",
      "\n",
      "  0%|                                                                             | 0/840 [00:00<?, ?it/s]\u001b[A\u001b[A\n",
      "\n",
      "100%|█████████████████████████████████████████████████████████████████| 840/840 [00:00<00:00, 3746.85it/s]\u001b[A\u001b[A\n"
     ]
    },
    {
     "name": "stdout",
     "output_type": "stream",
     "text": [
      "\tCover\n"
     ]
    },
    {
     "name": "stderr",
     "output_type": "stream",
     "text": [
      "\n",
      "level:  78%|█████████████████████████████████████████████████▊              | 7/9 [00:29<00:08,  4.20s/it]\u001b[A"
     ]
    },
    {
     "name": "stdout",
     "output_type": "stream",
     "text": [
      "OSLOM\n",
      "\tGraph\n",
      "\tGT\n",
      "\tRewrite\n"
     ]
    },
    {
     "name": "stderr",
     "output_type": "stream",
     "text": [
      "\n",
      "\n",
      "  0%|                                                                             | 0/576 [00:00<?, ?it/s]\u001b[A\u001b[A\n",
      "\n",
      "100%|█████████████████████████████████████████████████████████████████| 576/576 [00:00<00:00, 2677.27it/s]\u001b[A\u001b[A\n"
     ]
    },
    {
     "name": "stdout",
     "output_type": "stream",
     "text": [
      "\tCover\n"
     ]
    },
    {
     "name": "stderr",
     "output_type": "stream",
     "text": [
      "\n",
      "level:  89%|████████████████████████████████████████████████████████▉       | 8/9 [00:33<00:04,  4.17s/it]\u001b[A"
     ]
    },
    {
     "name": "stdout",
     "output_type": "stream",
     "text": [
      "OSLOM\n",
      "\tGraph\n",
      "\tGT\n",
      "\tRewrite\n"
     ]
    },
    {
     "name": "stderr",
     "output_type": "stream",
     "text": [
      "\n",
      "\n",
      "  0%|                                                                             | 0/574 [00:00<?, ?it/s]\u001b[A\u001b[A\n",
      "\n",
      "100%|█████████████████████████████████████████████████████████████████| 574/574 [00:00<00:00, 2761.45it/s]\u001b[A\u001b[A\n"
     ]
    },
    {
     "name": "stdout",
     "output_type": "stream",
     "text": [
      "\tCover\n"
     ]
    },
    {
     "name": "stderr",
     "output_type": "stream",
     "text": [
      "\n",
      "level: 100%|████████████████████████████████████████████████████████████████| 9/9 [00:37<00:00,  4.16s/it]\u001b[A\n",
      "Datasets: lj:  67%|██████████████████████████████████████                   | 2/3 [00:37<00:18, 18.75s/it]\n",
      "level:   0%|                                                                        | 0/1 [00:00<?, ?it/s]\u001b[A"
     ]
    },
    {
     "name": "stdout",
     "output_type": "stream",
     "text": [
      "OSLOM\n",
      "\tGraph\n"
     ]
    }
   ],
   "source": [
    "# Check OSLOM higher hierarchy resultsimport re\n",
    "\n",
    "tp_pattern = re.compile(\"tp\\d*\")\n",
    "def find_osolom_hierarchies(dataset):\n",
    "    oslom_out = Path(ALTERNATIVE_ALGOS_ROOT) / \"other_algo_results\" / f\"oslom_{dataset}\"\n",
    "    \n",
    "    tp_files = [f for f in listdir(oslom_out) if tp_pattern.match(f)]\n",
    "    return range(len(tp_files))\n",
    "\n",
    "oslom_dataframes = {}\n",
    "pbar = tqdm(DATASETS, desc=\"Datasets\")\n",
    "for dataset in pbar:\n",
    "    pbar.set_description(f\"Datasets: {dataset}\")\n",
    "    levels = find_osolom_hierarchies(dataset)\n",
    "    raw_data = []\n",
    "    for l in tqdm(levels, desc=\"level\", leave=False):\n",
    "        r = get_oslom_result(dataset, level=l)\n",
    "        r[\"level\"] = l\n",
    "        raw_data.append(r)\n",
    "    oslom_dataframes[dataset] = DataFrame(raw_data)"
   ]
  },
  {
   "cell_type": "code",
   "execution_count": null,
   "id": "d91ae83e",
   "metadata": {},
   "outputs": [],
   "source": [
    "oslom_dataframes[\"eu\"]"
   ]
  },
  {
   "cell_type": "code",
   "execution_count": null,
   "id": "81d5ffd5",
   "metadata": {},
   "outputs": [],
   "source": []
  }
 ],
 "metadata": {
  "kernelspec": {
   "display_name": "lazyfox",
   "language": "python",
   "name": "lazyfox"
  },
  "language_info": {
   "codemirror_mode": {
    "name": "ipython",
    "version": 3
   },
   "file_extension": ".py",
   "mimetype": "text/x-python",
   "name": "python",
   "nbconvert_exporter": "python",
   "pygments_lexer": "ipython3",
   "version": "3.10.6"
  }
 },
 "nbformat": 4,
 "nbformat_minor": 5
}
